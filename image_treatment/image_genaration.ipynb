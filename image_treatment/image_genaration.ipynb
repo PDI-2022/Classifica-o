{
 "cells": [
  {
   "cell_type": "code",
   "execution_count": 11,
   "metadata": {},
   "outputs": [],
   "source": [
    "from os.path import realpath\n",
    "import glob\n",
    "import cv2\n",
    "import matplotlib.pyplot as plt\n",
    "import os\n",
    "import numpy as np\n",
    "import pandas as pd\n",
    "import join as join\n",
    "import seaborn as sns\n",
    "import tensorflow as tf\n",
    "import shutil\n",
    "\n",
    "from sklearn.ensemble import RandomForestClassifier\n",
    "\n",
    "from keras.models import Model, Sequential\n",
    "from keras.layers import Dense, Flatten, Conv2D, MaxPooling2D\n",
    "from tensorflow.keras.applications import ResNet101\n",
    "from tensorflow.keras.layers import BatchNormalization\n",
    "from keras.preprocessing.image import ImageDataGenerator\n",
    "from tensorflow.keras.utils import load_img, img_to_array\n",
    "\n"
   ]
  },
  {
   "cell_type": "code",
   "execution_count": 12,
   "metadata": {},
   "outputs": [],
   "source": [
    "datagen = ImageDataGenerator(\n",
    "        rotation_range=40,\n",
    "        width_shift_range=0.2,\n",
    "        height_shift_range=0.2,\n",
    "        rescale=1./255,\n",
    "        shear_range=0.2,\n",
    "        zoom_range=0.25,\n",
    "        horizontal_flip=True,\n",
    "        vertical_flip=True,\n",
    "\n",
    "        fill_mode='constant')"
   ]
  },
  {
   "cell_type": "code",
   "execution_count": 13,
   "metadata": {},
   "outputs": [],
   "source": [
    "path1 = '/home/luan/Desktop/feijao/Classificacao-main/images/interna'\n",
    "path2 = '/home/luan/Desktop/feijao/Classificacao-main/images/externa'"
   ]
  },
  {
   "cell_type": "code",
   "execution_count": 14,
   "metadata": {},
   "outputs": [],
   "source": [
    "imagens_internas = []\n",
    "imagens_externas = []"
   ]
  },
  {
   "cell_type": "code",
   "execution_count": 15,
   "metadata": {},
   "outputs": [],
   "source": [
    "path3 = '/home/luan/Desktop/feijao/Classificacao-main/train_images/internas'\n",
    "path4 = '/home/luan/Desktop/feijao/Classificacao-main/train_images/externas'"
   ]
  },
  {
   "cell_type": "code",
   "execution_count": 6,
   "metadata": {},
   "outputs": [],
   "source": [
    "classes = np.arange(1,8).tolist()"
   ]
  },
  {
   "cell_type": "code",
   "execution_count": 25,
   "metadata": {},
   "outputs": [],
   "source": [
    "for i in classes:\n",
    "    os.makedirs(os.path.join(path3, f\"classe_{str(i)}\"))\n"
   ]
  },
  {
   "cell_type": "code",
   "execution_count": 23,
   "metadata": {},
   "outputs": [],
   "source": [
    "for i in classes:\n",
    "    os.makedirs(os.path.join(path4, f\"classe_{str(i)}\"))"
   ]
  },
  {
   "cell_type": "code",
   "execution_count": 26,
   "metadata": {},
   "outputs": [],
   "source": [
    "for dic in glob.glob(f\"{path1}/*\"):\n",
    "    for img_path in glob.glob(os.path.join(dic, \"*.jpg\")):\n",
    "        label = img_path.split(\"/\")\n",
    "        img = load_img(img_path)\n",
    "        pic_array = img_to_array(img)\n",
    "        pic_array = pic_array.reshape((1,) + pic_array.shape)\n",
    "        count = 0\n",
    "        if(label[8] == \"classe_4\"):\n",
    "            for batch in datagen.flow(pic_array, batch_size=1,save_to_dir=f\"{path3}/{label[8]}\", save_prefix=\"interno\", save_format='jpeg'):\n",
    "                count += 1\n",
    "                if count > 2:\n",
    "                    break\n",
    "        elif(label[8] == \"classe_3\"):\n",
    "            for batch in datagen.flow(pic_array, batch_size=1,save_to_dir=f\"{path3}/{label[8]}\", save_prefix=\"interno\", save_format='jpeg'):\n",
    "                count += 1\n",
    "                if count > 7:\n",
    "                    break\n",
    "        elif(label[8] == \"classe_2\") :\n",
    "            for batch in datagen.flow(pic_array, batch_size=1,save_to_dir=f\"{path3}/{label[8]}\", save_prefix=\"interno\", save_format='jpeg'):\n",
    "                count += 1\n",
    "                if count > 15:\n",
    "                    break\n",
    "        elif( label[8] == \"classe_6\") :\n",
    "            for batch in datagen.flow(pic_array, batch_size=1,save_to_dir=f\"{path3}/{label[8]}\", save_prefix=\"interno\", save_format='jpeg'):\n",
    "                count += 1\n",
    "                if count > 51:\n",
    "                    break             \n",
    "        elif(label[8] == \"classe_5\") :\n",
    "            for batch in datagen.flow(pic_array, batch_size=1,save_to_dir=f\"{path3}/{label[8]}\", save_prefix=\"interno\", save_format='jpeg'):\n",
    "                count += 1\n",
    "                if count > 55:\n",
    "                    break    \n",
    "        elif(label[8] == \"classe_1\"):\n",
    "            for batch in datagen.flow(pic_array, batch_size=1,save_to_dir=f\"{path3}/{label[8]}\", save_prefix=\"interno\", save_format='jpeg'):\n",
    "                count += 1\n",
    "                if count > 51:\n",
    "                    break      \n",
    "        elif(label[8] == \"classe_7\"):\n",
    "            for batch in datagen.flow(pic_array, batch_size=1,save_to_dir=f\"{path3}/{label[8]}\", save_prefix=\"interno\", save_format='jpeg'):\n",
    "                count += 1\n",
    "                if count > 51:\n",
    "                    break   "
   ]
  },
  {
   "cell_type": "code",
   "execution_count": 24,
   "metadata": {},
   "outputs": [],
   "source": [
    "for dic in glob.glob(f\"{path2}/*\"):\n",
    "    for img_path in glob.glob(os.path.join(dic, \"*.jpg\")):\n",
    "        label = img_path.split(\"/\")\n",
    "        img = load_img(img_path)\n",
    "        pic_array = img_to_array(img)\n",
    "        pic_array = pic_array.reshape((1,) + pic_array.shape)\n",
    "        count = 0\n",
    "        \n",
    "        if(label[8] == \"classe_4\"):\n",
    "            for batch in datagen.flow(pic_array, batch_size=1,save_to_dir=f\"{path4}/{label[8]}\", save_prefix=\"externo\", save_format='jpeg'):\n",
    "                count += 1\n",
    "                if count > 2:\n",
    "                    break\n",
    "        elif(label[8] == \"classe_3\"):\n",
    "            for batch in datagen.flow(pic_array, batch_size=1,save_to_dir=f\"{path4}/{label[8]}\", save_prefix=\"externo\", save_format='jpeg'):\n",
    "                count += 1\n",
    "                if count > 8:\n",
    "                    break\n",
    "        elif(label[8] == \"classe_2\") :\n",
    "            for batch in datagen.flow(pic_array, batch_size=1,save_to_dir=f\"{path4}/{label[8]}\", save_prefix=\"externo\", save_format='jpeg'):\n",
    "                count += 1\n",
    "                if count > 20:\n",
    "                    break\n",
    "        elif(label[8] == \"classe_5\") :\n",
    "            for batch in datagen.flow(pic_array, batch_size=1,save_to_dir=f\"{path4}/{label[8]}\", save_prefix=\"externo\", save_format='jpeg'):\n",
    "                count += 1\n",
    "                if count > 17:\n",
    "                    break\n",
    "        elif(label[8] == \"classe_6\") :\n",
    "            for batch in datagen.flow(pic_array, batch_size=1,save_to_dir=f\"{path4}/{label[8]}\", save_prefix=\"externo\", save_format='jpeg'):\n",
    "                count += 1\n",
    "                if count > 60:\n",
    "                    break   \n",
    "        elif(label[8] == \"classe_1\"):\n",
    "            for batch in datagen.flow(pic_array, batch_size=1,save_to_dir=f\"{path4}/{label[8]}\", save_prefix=\"externo\", save_format='jpeg'):\n",
    "                count += 1\n",
    "                if count > 51:\n",
    "                    break      \n",
    "        elif(label[8] == \"classe_7\"):\n",
    "            for batch in datagen.flow(pic_array, batch_size=1,save_to_dir=f\"{path4}/{label[8]}\", save_prefix=\"externo\", save_format='jpeg'):\n",
    "                count += 1\n",
    "                if count > 51:\n",
    "                    break         "
   ]
  },
  {
   "cell_type": "code",
   "execution_count": null,
   "metadata": {},
   "outputs": [],
   "source": []
  }
 ],
 "metadata": {
  "kernelspec": {
   "display_name": "Python 3.10.6 64-bit",
   "language": "python",
   "name": "python3"
  },
  "language_info": {
   "codemirror_mode": {
    "name": "ipython",
    "version": 3
   },
   "file_extension": ".py",
   "mimetype": "text/x-python",
   "name": "python",
   "nbconvert_exporter": "python",
   "pygments_lexer": "ipython3",
   "version": "3.10.6"
  },
  "orig_nbformat": 4,
  "vscode": {
   "interpreter": {
    "hash": "916dbcbb3f70747c44a77c7bcd40155683ae19c65e1c03b4aa3499c5328201f1"
   }
  }
 },
 "nbformat": 4,
 "nbformat_minor": 2
}
