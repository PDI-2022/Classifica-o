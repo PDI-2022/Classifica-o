{
 "cells": [
  {
   "cell_type": "code",
   "execution_count": 2,
   "metadata": {},
   "outputs": [
    {
     "name": "stderr",
     "output_type": "stream",
     "text": [
      "c:\\Users\\Tácio\\AppData\\Local\\Programs\\Python\\Python39\\lib\\site-packages\\scipy\\__init__.py:146: UserWarning: A NumPy version >=1.16.5 and <1.23.0 is required for this version of SciPy (detected version 1.23.4\n",
      "  warnings.warn(f\"A NumPy version >={np_minversion} and <{np_maxversion}\"\n"
     ]
    }
   ],
   "source": [
    "from tensorflow.keras.layers import Conv2D, Flatten, Dense, MaxPool2D, BatchNormalization, GlobalAveragePooling2D, Activation, Dropout, MaxPooling2D\n",
    "from tensorflow.keras.applications. resnet50 import preprocess_input, decode_predictions\n",
    "from tensorflow.keras.preprocessing.image import ImageDataGenerator, load_img\n",
    "from tensorflow.keras.applications.resnet50 import ResNet50\n",
    "from tensorflow.keras.applications.inception_resnet_v2 import InceptionResNetV2\n",
    "from tensorflow.keras.preprocessing import image\n",
    "from tensorflow.keras.models import Sequential, Model\n",
    "from tensorflow.keras.optimizers import Adam\n",
    "from tensorflow.keras.losses import CategoricalCrossentropy\n",
    "from tensorflow.keras.regularizers import l2\n",
    "from tensorflow.keras.callbacks import ReduceLROnPlateau, EarlyStopping\n",
    "from tensorflow import optimizers\n",
    "\n",
    "import tensorflow as tf\n",
    "import matplotlib.pyplot as plt\n",
    "import numpy as np\n",
    "\n",
    "from sklearn.metrics import confusion_matrix, classification_report"
   ]
  },
  {
   "cell_type": "code",
   "execution_count": 8,
   "metadata": {},
   "outputs": [],
   "source": [
    "train_data_dir = r\"InceptionResNetV2/images_splitted_aug_v3/train\"\n",
    "valid_data_dir = r\"InceptionResNetV2/images_splitted_aug_v3/val\"\n",
    "test_data_dir = r\"InceptionResNetV2/images_splitted_aug_v3/test\"\n"
   ]
  },
  {
   "cell_type": "code",
   "execution_count": 9,
   "metadata": {},
   "outputs": [
    {
     "name": "stdout",
     "output_type": "stream",
     "text": [
      "Found 4960 images belonging to 7 classes.\n",
      "Found 940 images belonging to 7 classes.\n"
     ]
    }
   ],
   "source": [
    "train_datagen = ImageDataGenerator(\n",
    "    preprocessing_function=preprocess_input, \n",
    "    validation_split = 0.4)\n",
    "    \n",
    "\n",
    "\n",
    "train_generator = train_datagen.flow_from_directory(\n",
    "    train_data_dir,\n",
    "    target_size=(244, 244),\n",
    "    batch_size = 32,\n",
    "    class_mode = 'categorical',\n",
    "    subset= 'training') # set as training data\n",
    "\n",
    "\n",
    "valid_generator = train_datagen.flow_from_directory(\n",
    "    valid_data_dir, # same directory as training data\n",
    "    target_size=(244, 244),\n",
    "    batch_size=32,\n",
    "    class_mode ='categorical',\n",
    "    subset='validation') # set as validation data\n",
    "\n",
    "   \n"
   ]
  },
  {
   "cell_type": "code",
   "execution_count": 10,
   "metadata": {},
   "outputs": [
    {
     "name": "stdout",
     "output_type": "stream",
     "text": [
      "Found 472 images belonging to 7 classes.\n"
     ]
    }
   ],
   "source": [
    "test_generator = train_datagen.flow_from_directory(\n",
    "    test_data_dir, # same directory as training data\n",
    "    target_size=(244, 244),\n",
    "    batch_size=1,\n",
    "    class_mode= 'categorical',\n",
    "    subset= \"validation\") # set as validation data\n"
   ]
  },
  {
   "cell_type": "code",
   "execution_count": 146,
   "metadata": {},
   "outputs": [
    {
     "name": "stdout",
     "output_type": "stream",
     "text": [
      "Label Mappings for classes present in the training and validation datasets\n",
      "\n",
      "0 : classe_1\n",
      "1 : classe_2\n",
      "2 : classe_3\n",
      "3 : classe_4\n",
      "4 : classe_5\n",
      "5 : classe_6\n",
      "6 : classe_7\n"
     ]
    }
   ],
   "source": [
    "labels = {value: key for key, value in train_generator.class_indices.items()}\n",
    "\n",
    "print(\"Label Mappings for classes present in the training and validation datasets\\n\")\n",
    "for key, value in labels.items():\n",
    "    print(f\"{key} : {value}\")"
   ]
  },
  {
   "cell_type": "code",
   "execution_count": 147,
   "metadata": {},
   "outputs": [
    {
     "data": {
      "text/plain": [
       "(1, 244, 244, 3)"
      ]
     },
     "execution_count": 147,
     "metadata": {},
     "output_type": "execute_result"
    }
   ],
   "source": [
    "x,y = test_generator.next()\n",
    "x.shape\n"
   ]
  },
  {
   "cell_type": "code",
   "execution_count": 148,
   "metadata": {},
   "outputs": [],
   "source": [
    "logdir='logs'\n",
    "tensorboard_callback = tf.keras.callbacks.TensorBoard(log_dir=logdir)"
   ]
  },
  {
   "cell_type": "code",
   "execution_count": 150,
   "metadata": {},
   "outputs": [
    {
     "name": "stdout",
     "output_type": "stream",
     "text": [
      "Epoch 1/200\n",
      "155/155 - 54s - loss: 35.5496 - accuracy: 0.2635 - val_loss: 18.0383 - val_accuracy: 0.2255 - lr: 0.0010 - 54s/epoch - 349ms/step\n",
      "Epoch 2/200\n",
      "155/155 - 33s - loss: 5.0002 - accuracy: 0.2708 - val_loss: 3.3772 - val_accuracy: 0.4096 - lr: 0.0010 - 33s/epoch - 210ms/step\n",
      "Epoch 3/200\n",
      "155/155 - 33s - loss: 3.0844 - accuracy: 0.2863 - val_loss: 2.4436 - val_accuracy: 0.1628 - lr: 0.0010 - 33s/epoch - 210ms/step\n",
      "Epoch 4/200\n",
      "155/155 - 33s - loss: 2.4663 - accuracy: 0.2994 - val_loss: 2.5588 - val_accuracy: 0.4074 - lr: 0.0010 - 33s/epoch - 212ms/step\n",
      "Epoch 5/200\n",
      "155/155 - 33s - loss: 2.6189 - accuracy: 0.2843 - val_loss: 2.4521 - val_accuracy: 0.4096 - lr: 0.0010 - 33s/epoch - 213ms/step\n",
      "Epoch 6/200\n",
      "155/155 - 33s - loss: 1.9019 - accuracy: 0.3173 - val_loss: 1.7783 - val_accuracy: 0.3479 - lr: 0.0010 - 33s/epoch - 213ms/step\n",
      "Epoch 7/200\n",
      "155/155 - 33s - loss: 1.9705 - accuracy: 0.3224 - val_loss: 2.1712 - val_accuracy: 0.1191 - lr: 0.0010 - 33s/epoch - 213ms/step\n",
      "Epoch 8/200\n",
      "155/155 - 33s - loss: 1.8416 - accuracy: 0.3435 - val_loss: 2.2828 - val_accuracy: 0.4096 - lr: 0.0010 - 33s/epoch - 212ms/step\n",
      "Epoch 9/200\n",
      "155/155 - 33s - loss: 1.7446 - accuracy: 0.3389 - val_loss: 1.7533 - val_accuracy: 0.2223 - lr: 0.0010 - 33s/epoch - 213ms/step\n",
      "Epoch 10/200\n",
      "155/155 - 33s - loss: 1.6717 - accuracy: 0.3659 - val_loss: 1.8254 - val_accuracy: 0.1989 - lr: 0.0010 - 33s/epoch - 212ms/step\n",
      "Epoch 11/200\n",
      "155/155 - 33s - loss: 1.6535 - accuracy: 0.3621 - val_loss: 1.6436 - val_accuracy: 0.4096 - lr: 0.0010 - 33s/epoch - 213ms/step\n",
      "Epoch 12/200\n",
      "155/155 - 33s - loss: 1.6306 - accuracy: 0.3817 - val_loss: 2.0862 - val_accuracy: 0.2245 - lr: 0.0010 - 33s/epoch - 212ms/step\n",
      "Epoch 13/200\n",
      "155/155 - 33s - loss: 1.6408 - accuracy: 0.3903 - val_loss: 1.6175 - val_accuracy: 0.4096 - lr: 0.0010 - 33s/epoch - 212ms/step\n",
      "Epoch 14/200\n",
      "155/155 - 33s - loss: 1.5745 - accuracy: 0.4079 - val_loss: 1.6119 - val_accuracy: 0.4096 - lr: 0.0010 - 33s/epoch - 213ms/step\n",
      "Epoch 15/200\n",
      "155/155 - 33s - loss: 1.5667 - accuracy: 0.4079 - val_loss: 1.6195 - val_accuracy: 0.4074 - lr: 0.0010 - 33s/epoch - 212ms/step\n",
      "Epoch 16/200\n",
      "155/155 - 33s - loss: 1.5703 - accuracy: 0.4067 - val_loss: 1.5981 - val_accuracy: 0.4096 - lr: 0.0010 - 33s/epoch - 212ms/step\n",
      "Epoch 17/200\n",
      "155/155 - 33s - loss: 1.5509 - accuracy: 0.4095 - val_loss: 1.6074 - val_accuracy: 0.4096 - lr: 0.0010 - 33s/epoch - 213ms/step\n",
      "Epoch 18/200\n",
      "155/155 - 33s - loss: 1.5507 - accuracy: 0.4089 - val_loss: 1.6179 - val_accuracy: 0.4096 - lr: 0.0010 - 33s/epoch - 214ms/step\n",
      "Epoch 19/200\n",
      "155/155 - 33s - loss: 1.5523 - accuracy: 0.4091 - val_loss: 1.6326 - val_accuracy: 0.4096 - lr: 0.0010 - 33s/epoch - 214ms/step\n",
      "Epoch 20/200\n",
      "155/155 - 33s - loss: 1.5530 - accuracy: 0.4091 - val_loss: 1.5976 - val_accuracy: 0.4096 - lr: 0.0010 - 33s/epoch - 213ms/step\n",
      "Epoch 21/200\n",
      "155/155 - 33s - loss: 1.5732 - accuracy: 0.4060 - val_loss: 1.5949 - val_accuracy: 0.4096 - lr: 0.0010 - 33s/epoch - 214ms/step\n",
      "Epoch 22/200\n",
      "155/155 - 33s - loss: 1.5475 - accuracy: 0.4091 - val_loss: 1.6001 - val_accuracy: 0.4096 - lr: 0.0010 - 33s/epoch - 212ms/step\n",
      "Epoch 23/200\n",
      "155/155 - 33s - loss: 1.5501 - accuracy: 0.4087 - val_loss: 1.5944 - val_accuracy: 0.4096 - lr: 0.0010 - 33s/epoch - 214ms/step\n",
      "Epoch 24/200\n",
      "155/155 - 33s - loss: 1.5576 - accuracy: 0.4085 - val_loss: 1.5882 - val_accuracy: 0.4096 - lr: 0.0010 - 33s/epoch - 214ms/step\n",
      "Epoch 25/200\n",
      "155/155 - 32s - loss: 1.5455 - accuracy: 0.4089 - val_loss: 1.5963 - val_accuracy: 0.4096 - lr: 0.0010 - 32s/epoch - 209ms/step\n",
      "Epoch 26/200\n",
      "155/155 - 33s - loss: 1.5461 - accuracy: 0.4091 - val_loss: 1.5859 - val_accuracy: 0.4096 - lr: 0.0010 - 33s/epoch - 214ms/step\n",
      "Epoch 27/200\n",
      "155/155 - 33s - loss: 1.5504 - accuracy: 0.4091 - val_loss: 1.5832 - val_accuracy: 0.4096 - lr: 0.0010 - 33s/epoch - 210ms/step\n",
      "Epoch 28/200\n",
      "155/155 - 32s - loss: 1.5453 - accuracy: 0.4097 - val_loss: 1.5815 - val_accuracy: 0.4096 - lr: 0.0010 - 32s/epoch - 208ms/step\n",
      "Epoch 29/200\n",
      "155/155 - 34s - loss: 1.5445 - accuracy: 0.4056 - val_loss: 1.5940 - val_accuracy: 0.4096 - lr: 0.0010 - 34s/epoch - 217ms/step\n",
      "Epoch 30/200\n",
      "155/155 - 32s - loss: 1.5443 - accuracy: 0.4089 - val_loss: 1.5912 - val_accuracy: 0.4096 - lr: 0.0010 - 32s/epoch - 209ms/step\n",
      "Epoch 31/200\n",
      "155/155 - 33s - loss: 1.5420 - accuracy: 0.4081 - val_loss: 1.5769 - val_accuracy: 0.4096 - lr: 0.0010 - 33s/epoch - 213ms/step\n",
      "Epoch 32/200\n",
      "155/155 - 34s - loss: 1.5487 - accuracy: 0.4095 - val_loss: 1.5720 - val_accuracy: 0.4096 - lr: 0.0010 - 34s/epoch - 220ms/step\n",
      "Epoch 33/200\n",
      "155/155 - 32s - loss: 1.5386 - accuracy: 0.4103 - val_loss: 1.6001 - val_accuracy: 0.4053 - lr: 0.0010 - 32s/epoch - 209ms/step\n",
      "Epoch 34/200\n",
      "155/155 - 33s - loss: 1.5395 - accuracy: 0.4099 - val_loss: 1.5715 - val_accuracy: 0.4096 - lr: 0.0010 - 33s/epoch - 214ms/step\n",
      "Epoch 35/200\n",
      "155/155 - 33s - loss: 1.5456 - accuracy: 0.4093 - val_loss: 1.5750 - val_accuracy: 0.4096 - lr: 0.0010 - 33s/epoch - 214ms/step\n",
      "Epoch 36/200\n",
      "155/155 - 32s - loss: 1.5390 - accuracy: 0.4085 - val_loss: 1.5858 - val_accuracy: 0.4096 - lr: 0.0010 - 32s/epoch - 208ms/step\n",
      "Epoch 37/200\n",
      "155/155 - 32s - loss: 1.5417 - accuracy: 0.4095 - val_loss: 1.5789 - val_accuracy: 0.4096 - lr: 0.0010 - 32s/epoch - 208ms/step\n",
      "Epoch 38/200\n",
      "155/155 - 34s - loss: 1.5420 - accuracy: 0.4101 - val_loss: 1.5715 - val_accuracy: 0.4138 - lr: 0.0010 - 34s/epoch - 219ms/step\n",
      "Epoch 39/200\n",
      "155/155 - 34s - loss: 1.5450 - accuracy: 0.4089 - val_loss: 1.5764 - val_accuracy: 0.4117 - lr: 0.0010 - 34s/epoch - 222ms/step\n",
      "Epoch 40/200\n",
      "155/155 - 36s - loss: 1.5332 - accuracy: 0.4085 - val_loss: 1.5632 - val_accuracy: 0.4128 - lr: 3.1623e-04 - 36s/epoch - 229ms/step\n",
      "Epoch 41/200\n",
      "155/155 - 32s - loss: 1.5319 - accuracy: 0.4093 - val_loss: 1.5569 - val_accuracy: 0.4096 - lr: 3.1623e-04 - 32s/epoch - 210ms/step\n",
      "Epoch 42/200\n",
      "155/155 - 33s - loss: 1.5318 - accuracy: 0.4091 - val_loss: 1.5609 - val_accuracy: 0.4096 - lr: 3.1623e-04 - 33s/epoch - 214ms/step\n",
      "Epoch 43/200\n",
      "155/155 - 32s - loss: 1.5327 - accuracy: 0.4095 - val_loss: 1.5592 - val_accuracy: 0.4106 - lr: 3.1623e-04 - 32s/epoch - 209ms/step\n",
      "Epoch 44/200\n",
      "155/155 - 32s - loss: 1.5293 - accuracy: 0.4099 - val_loss: 1.5664 - val_accuracy: 0.4064 - lr: 3.1623e-04 - 32s/epoch - 208ms/step\n",
      "Epoch 45/200\n",
      "155/155 - 32s - loss: 1.5289 - accuracy: 0.4103 - val_loss: 1.5590 - val_accuracy: 0.4106 - lr: 3.1623e-04 - 32s/epoch - 209ms/step\n",
      "Epoch 46/200\n",
      "155/155 - 33s - loss: 1.5294 - accuracy: 0.4097 - val_loss: 1.5692 - val_accuracy: 0.4128 - lr: 3.1623e-04 - 33s/epoch - 212ms/step\n",
      "Epoch 47/200\n",
      "155/155 - 32s - loss: 1.5287 - accuracy: 0.4093 - val_loss: 1.5605 - val_accuracy: 0.4106 - lr: 1.0000e-04 - 32s/epoch - 208ms/step\n",
      "Epoch 48/200\n",
      "155/155 - 32s - loss: 1.5284 - accuracy: 0.4095 - val_loss: 1.5598 - val_accuracy: 0.4128 - lr: 1.0000e-04 - 32s/epoch - 208ms/step\n",
      "Epoch 49/200\n",
      "155/155 - 33s - loss: 1.5265 - accuracy: 0.4099 - val_loss: 1.5598 - val_accuracy: 0.4106 - lr: 1.0000e-04 - 33s/epoch - 213ms/step\n",
      "Epoch 50/200\n",
      "155/155 - 34s - loss: 1.5258 - accuracy: 0.4103 - val_loss: 1.5613 - val_accuracy: 0.4138 - lr: 1.0000e-04 - 34s/epoch - 219ms/step\n",
      "Epoch 51/200\n",
      "155/155 - 34s - loss: 1.5249 - accuracy: 0.4095 - val_loss: 1.5606 - val_accuracy: 0.4106 - lr: 1.0000e-04 - 34s/epoch - 216ms/step\n",
      "Epoch 52/200\n",
      "155/155 - 33s - loss: 1.5234 - accuracy: 0.4101 - val_loss: 1.5608 - val_accuracy: 0.4096 - lr: 3.1623e-05 - 33s/epoch - 213ms/step\n",
      "Epoch 53/200\n",
      "155/155 - 32s - loss: 1.5233 - accuracy: 0.4101 - val_loss: 1.5595 - val_accuracy: 0.4085 - lr: 3.1623e-05 - 32s/epoch - 208ms/step\n",
      "Epoch 54/200\n",
      "155/155 - 34s - loss: 1.5232 - accuracy: 0.4103 - val_loss: 1.5593 - val_accuracy: 0.4117 - lr: 3.1623e-05 - 34s/epoch - 222ms/step\n",
      "Epoch 55/200\n",
      "155/155 - 33s - loss: 1.5234 - accuracy: 0.4103 - val_loss: 1.5611 - val_accuracy: 0.4085 - lr: 3.1623e-05 - 33s/epoch - 211ms/step\n",
      "Epoch 56/200\n",
      "155/155 - 32s - loss: 1.5233 - accuracy: 0.4101 - val_loss: 1.5592 - val_accuracy: 0.4128 - lr: 3.1623e-05 - 32s/epoch - 209ms/step\n",
      "Epoch 57/200\n",
      "155/155 - 33s - loss: 1.5228 - accuracy: 0.4103 - val_loss: 1.5591 - val_accuracy: 0.4117 - lr: 1.0000e-05 - 33s/epoch - 212ms/step\n",
      "Epoch 58/200\n",
      "155/155 - 33s - loss: 1.5225 - accuracy: 0.4097 - val_loss: 1.5591 - val_accuracy: 0.4117 - lr: 1.0000e-05 - 33s/epoch - 213ms/step\n",
      "Epoch 59/200\n",
      "155/155 - 34s - loss: 1.5226 - accuracy: 0.4099 - val_loss: 1.5595 - val_accuracy: 0.4096 - lr: 1.0000e-05 - 34s/epoch - 219ms/step\n",
      "Epoch 60/200\n",
      "155/155 - 33s - loss: 1.5224 - accuracy: 0.4097 - val_loss: 1.5603 - val_accuracy: 0.4085 - lr: 1.0000e-05 - 33s/epoch - 215ms/step\n",
      "Epoch 61/200\n",
      "155/155 - 34s - loss: 1.5224 - accuracy: 0.4105 - val_loss: 1.5601 - val_accuracy: 0.4085 - lr: 1.0000e-05 - 34s/epoch - 216ms/step\n",
      "Epoch 62/200\n",
      "155/155 - 32s - loss: 1.5220 - accuracy: 0.4101 - val_loss: 1.5601 - val_accuracy: 0.4085 - lr: 3.1623e-06 - 32s/epoch - 208ms/step\n",
      "Epoch 63/200\n",
      "155/155 - 33s - loss: 1.5220 - accuracy: 0.4101 - val_loss: 1.5597 - val_accuracy: 0.4096 - lr: 3.1623e-06 - 33s/epoch - 211ms/step\n",
      "Epoch 64/200\n",
      "155/155 - 32s - loss: 1.5219 - accuracy: 0.4097 - val_loss: 1.5599 - val_accuracy: 0.4085 - lr: 3.1623e-06 - 32s/epoch - 208ms/step\n",
      "Epoch 65/200\n",
      "155/155 - 34s - loss: 1.5219 - accuracy: 0.4097 - val_loss: 1.5600 - val_accuracy: 0.4085 - lr: 3.1623e-06 - 34s/epoch - 221ms/step\n",
      "Epoch 66/200\n",
      "155/155 - 33s - loss: 1.5220 - accuracy: 0.4101 - val_loss: 1.5598 - val_accuracy: 0.4096 - lr: 3.1623e-06 - 33s/epoch - 214ms/step\n",
      "Epoch 67/200\n",
      "155/155 - 33s - loss: 1.5218 - accuracy: 0.4097 - val_loss: 1.5598 - val_accuracy: 0.4096 - lr: 1.0000e-06 - 33s/epoch - 215ms/step\n",
      "Epoch 68/200\n",
      "155/155 - 35s - loss: 1.5218 - accuracy: 0.4097 - val_loss: 1.5599 - val_accuracy: 0.4096 - lr: 1.0000e-06 - 35s/epoch - 223ms/step\n",
      "Epoch 69/200\n",
      "155/155 - 32s - loss: 1.5218 - accuracy: 0.4097 - val_loss: 1.5598 - val_accuracy: 0.4096 - lr: 1.0000e-06 - 32s/epoch - 210ms/step\n",
      "Epoch 70/200\n",
      "155/155 - 32s - loss: 1.5218 - accuracy: 0.4097 - val_loss: 1.5598 - val_accuracy: 0.4096 - lr: 1.0000e-06 - 32s/epoch - 209ms/step\n",
      "Epoch 71/200\n",
      "155/155 - 32s - loss: 1.5218 - accuracy: 0.4097 - val_loss: 1.5598 - val_accuracy: 0.4096 - lr: 1.0000e-06 - 32s/epoch - 210ms/step\n",
      "Epoch 72/200\n",
      "155/155 - 33s - loss: 1.5218 - accuracy: 0.4097 - val_loss: 1.5598 - val_accuracy: 0.4096 - lr: 3.1623e-07 - 33s/epoch - 210ms/step\n",
      "Epoch 73/200\n",
      "155/155 - 33s - loss: 1.5218 - accuracy: 0.4097 - val_loss: 1.5598 - val_accuracy: 0.4096 - lr: 3.1623e-07 - 33s/epoch - 214ms/step\n",
      "Epoch 74/200\n",
      "155/155 - 32s - loss: 1.5218 - accuracy: 0.4097 - val_loss: 1.5598 - val_accuracy: 0.4096 - lr: 3.1623e-07 - 32s/epoch - 208ms/step\n",
      "Epoch 75/200\n",
      "155/155 - 32s - loss: 1.5218 - accuracy: 0.4097 - val_loss: 1.5598 - val_accuracy: 0.4096 - lr: 3.1623e-07 - 32s/epoch - 209ms/step\n",
      "Epoch 76/200\n",
      "155/155 - 33s - loss: 1.5218 - accuracy: 0.4097 - val_loss: 1.5598 - val_accuracy: 0.4096 - lr: 3.1623e-07 - 33s/epoch - 212ms/step\n",
      "Epoch 77/200\n",
      "155/155 - 34s - loss: 1.5218 - accuracy: 0.4097 - val_loss: 1.5598 - val_accuracy: 0.4096 - lr: 1.0000e-07 - 34s/epoch - 221ms/step\n",
      "Epoch 78/200\n",
      "155/155 - 32s - loss: 1.5218 - accuracy: 0.4097 - val_loss: 1.5598 - val_accuracy: 0.4096 - lr: 1.0000e-07 - 32s/epoch - 208ms/step\n",
      "Epoch 79/200\n",
      "155/155 - 33s - loss: 1.5218 - accuracy: 0.4097 - val_loss: 1.5598 - val_accuracy: 0.4096 - lr: 1.0000e-07 - 33s/epoch - 210ms/step\n",
      "Epoch 80/200\n",
      "155/155 - 33s - loss: 1.5218 - accuracy: 0.4097 - val_loss: 1.5598 - val_accuracy: 0.4096 - lr: 1.0000e-07 - 33s/epoch - 213ms/step\n",
      "Epoch 81/200\n",
      "155/155 - 32s - loss: 1.5218 - accuracy: 0.4097 - val_loss: 1.5598 - val_accuracy: 0.4096 - lr: 1.0000e-07 - 32s/epoch - 209ms/step\n",
      "Epoch 82/200\n",
      "155/155 - 32s - loss: 1.5218 - accuracy: 0.4097 - val_loss: 1.5598 - val_accuracy: 0.4096 - lr: 3.1623e-08 - 32s/epoch - 209ms/step\n",
      "Epoch 83/200\n",
      "155/155 - 32s - loss: 1.5218 - accuracy: 0.4097 - val_loss: 1.5598 - val_accuracy: 0.4096 - lr: 3.1623e-08 - 32s/epoch - 209ms/step\n",
      "Epoch 84/200\n",
      "155/155 - 32s - loss: 1.5218 - accuracy: 0.4097 - val_loss: 1.5598 - val_accuracy: 0.4096 - lr: 3.1623e-08 - 32s/epoch - 209ms/step\n",
      "Epoch 85/200\n",
      "155/155 - 32s - loss: 1.5218 - accuracy: 0.4097 - val_loss: 1.5598 - val_accuracy: 0.4096 - lr: 3.1623e-08 - 32s/epoch - 205ms/step\n",
      "Epoch 86/200\n",
      "155/155 - 31s - loss: 1.5218 - accuracy: 0.4097 - val_loss: 1.5598 - val_accuracy: 0.4096 - lr: 3.1623e-08 - 31s/epoch - 200ms/step\n",
      "Epoch 87/200\n",
      "155/155 - 31s - loss: 1.5218 - accuracy: 0.4097 - val_loss: 1.5598 - val_accuracy: 0.4096 - lr: 1.0000e-08 - 31s/epoch - 200ms/step\n",
      "Epoch 88/200\n",
      "155/155 - 31s - loss: 1.5218 - accuracy: 0.4097 - val_loss: 1.5598 - val_accuracy: 0.4096 - lr: 1.0000e-08 - 31s/epoch - 200ms/step\n",
      "Epoch 89/200\n",
      "155/155 - 31s - loss: 1.5218 - accuracy: 0.4097 - val_loss: 1.5598 - val_accuracy: 0.4096 - lr: 1.0000e-08 - 31s/epoch - 200ms/step\n",
      "Epoch 90/200\n",
      "155/155 - 31s - loss: 1.5218 - accuracy: 0.4097 - val_loss: 1.5598 - val_accuracy: 0.4096 - lr: 1.0000e-08 - 31s/epoch - 200ms/step\n",
      "Epoch 91/200\n",
      "155/155 - 31s - loss: 1.5218 - accuracy: 0.4097 - val_loss: 1.5598 - val_accuracy: 0.4096 - lr: 1.0000e-08 - 31s/epoch - 201ms/step\n",
      "Epoch 92/200\n",
      "155/155 - 33s - loss: 1.5218 - accuracy: 0.4097 - val_loss: 1.5598 - val_accuracy: 0.4096 - lr: 3.1623e-09 - 33s/epoch - 212ms/step\n",
      "Epoch 93/200\n",
      "155/155 - 33s - loss: 1.5218 - accuracy: 0.4097 - val_loss: 1.5598 - val_accuracy: 0.4096 - lr: 3.1623e-09 - 33s/epoch - 214ms/step\n",
      "Epoch 94/200\n",
      "155/155 - 33s - loss: 1.5218 - accuracy: 0.4097 - val_loss: 1.5598 - val_accuracy: 0.4096 - lr: 3.1623e-09 - 33s/epoch - 214ms/step\n",
      "Epoch 95/200\n",
      "155/155 - 33s - loss: 1.5218 - accuracy: 0.4097 - val_loss: 1.5598 - val_accuracy: 0.4096 - lr: 3.1623e-09 - 33s/epoch - 214ms/step\n",
      "Epoch 96/200\n",
      "155/155 - 33s - loss: 1.5218 - accuracy: 0.4097 - val_loss: 1.5598 - val_accuracy: 0.4096 - lr: 3.1623e-09 - 33s/epoch - 214ms/step\n",
      "Epoch 97/200\n",
      "155/155 - 33s - loss: 1.5218 - accuracy: 0.4097 - val_loss: 1.5598 - val_accuracy: 0.4096 - lr: 1.0000e-09 - 33s/epoch - 214ms/step\n",
      "Epoch 98/200\n",
      "155/155 - 34s - loss: 1.5218 - accuracy: 0.4097 - val_loss: 1.5598 - val_accuracy: 0.4096 - lr: 1.0000e-09 - 34s/epoch - 222ms/step\n",
      "Epoch 99/200\n",
      "155/155 - 33s - loss: 1.5218 - accuracy: 0.4097 - val_loss: 1.5598 - val_accuracy: 0.4096 - lr: 1.0000e-09 - 33s/epoch - 213ms/step\n",
      "Epoch 100/200\n",
      "155/155 - 33s - loss: 1.5218 - accuracy: 0.4097 - val_loss: 1.5598 - val_accuracy: 0.4096 - lr: 1.0000e-09 - 33s/epoch - 213ms/step\n",
      "Epoch 101/200\n",
      "155/155 - 33s - loss: 1.5218 - accuracy: 0.4097 - val_loss: 1.5598 - val_accuracy: 0.4096 - lr: 1.0000e-09 - 33s/epoch - 213ms/step\n",
      "Epoch 102/200\n",
      "155/155 - 33s - loss: 1.5218 - accuracy: 0.4097 - val_loss: 1.5598 - val_accuracy: 0.4096 - lr: 3.1623e-10 - 33s/epoch - 213ms/step\n",
      "Epoch 103/200\n",
      "155/155 - 33s - loss: 1.5218 - accuracy: 0.4097 - val_loss: 1.5598 - val_accuracy: 0.4096 - lr: 3.1623e-10 - 33s/epoch - 212ms/step\n",
      "Epoch 104/200\n",
      "155/155 - 33s - loss: 1.5218 - accuracy: 0.4097 - val_loss: 1.5598 - val_accuracy: 0.4096 - lr: 3.1623e-10 - 33s/epoch - 213ms/step\n",
      "Epoch 105/200\n",
      "155/155 - 33s - loss: 1.5218 - accuracy: 0.4097 - val_loss: 1.5598 - val_accuracy: 0.4096 - lr: 3.1623e-10 - 33s/epoch - 213ms/step\n",
      "Epoch 106/200\n",
      "155/155 - 33s - loss: 1.5218 - accuracy: 0.4097 - val_loss: 1.5598 - val_accuracy: 0.4096 - lr: 3.1623e-10 - 33s/epoch - 213ms/step\n",
      "Epoch 107/200\n",
      "155/155 - 33s - loss: 1.5218 - accuracy: 0.4097 - val_loss: 1.5598 - val_accuracy: 0.4096 - lr: 1.0000e-10 - 33s/epoch - 212ms/step\n",
      "Epoch 108/200\n",
      "155/155 - 34s - loss: 1.5218 - accuracy: 0.4097 - val_loss: 1.5598 - val_accuracy: 0.4096 - lr: 1.0000e-10 - 34s/epoch - 219ms/step\n",
      "Epoch 109/200\n",
      "155/155 - 34s - loss: 1.5218 - accuracy: 0.4097 - val_loss: 1.5598 - val_accuracy: 0.4096 - lr: 1.0000e-10 - 34s/epoch - 218ms/step\n",
      "Epoch 110/200\n",
      "155/155 - 33s - loss: 1.5218 - accuracy: 0.4097 - val_loss: 1.5598 - val_accuracy: 0.4096 - lr: 1.0000e-10 - 33s/epoch - 213ms/step\n",
      "Epoch 111/200\n",
      "155/155 - 33s - loss: 1.5218 - accuracy: 0.4097 - val_loss: 1.5598 - val_accuracy: 0.4096 - lr: 1.0000e-10 - 33s/epoch - 212ms/step\n",
      "Epoch 112/200\n",
      "155/155 - 33s - loss: 1.5218 - accuracy: 0.4097 - val_loss: 1.5598 - val_accuracy: 0.4096 - lr: 3.1623e-11 - 33s/epoch - 213ms/step\n",
      "Epoch 113/200\n",
      "155/155 - 33s - loss: 1.5218 - accuracy: 0.4097 - val_loss: 1.5598 - val_accuracy: 0.4096 - lr: 3.1623e-11 - 33s/epoch - 212ms/step\n",
      "Epoch 114/200\n",
      "155/155 - 33s - loss: 1.5218 - accuracy: 0.4097 - val_loss: 1.5598 - val_accuracy: 0.4096 - lr: 3.1623e-11 - 33s/epoch - 213ms/step\n",
      "Epoch 115/200\n",
      "155/155 - 33s - loss: 1.5218 - accuracy: 0.4097 - val_loss: 1.5598 - val_accuracy: 0.4096 - lr: 3.1623e-11 - 33s/epoch - 212ms/step\n",
      "Epoch 116/200\n",
      "155/155 - 33s - loss: 1.5218 - accuracy: 0.4097 - val_loss: 1.5598 - val_accuracy: 0.4096 - lr: 3.1623e-11 - 33s/epoch - 212ms/step\n",
      "Epoch 117/200\n",
      "155/155 - 33s - loss: 1.5218 - accuracy: 0.4097 - val_loss: 1.5598 - val_accuracy: 0.4096 - lr: 1.0000e-11 - 33s/epoch - 213ms/step\n",
      "Epoch 118/200\n",
      "155/155 - 33s - loss: 1.5218 - accuracy: 0.4097 - val_loss: 1.5598 - val_accuracy: 0.4096 - lr: 1.0000e-11 - 33s/epoch - 212ms/step\n",
      "Epoch 119/200\n",
      "155/155 - 33s - loss: 1.5218 - accuracy: 0.4097 - val_loss: 1.5598 - val_accuracy: 0.4096 - lr: 1.0000e-11 - 33s/epoch - 213ms/step\n",
      "Epoch 120/200\n",
      "155/155 - 33s - loss: 1.5218 - accuracy: 0.4097 - val_loss: 1.5598 - val_accuracy: 0.4096 - lr: 1.0000e-11 - 33s/epoch - 212ms/step\n",
      "Epoch 121/200\n",
      "155/155 - 33s - loss: 1.5218 - accuracy: 0.4097 - val_loss: 1.5598 - val_accuracy: 0.4096 - lr: 1.0000e-11 - 33s/epoch - 213ms/step\n",
      "Epoch 122/200\n",
      "155/155 - 33s - loss: 1.5218 - accuracy: 0.4097 - val_loss: 1.5598 - val_accuracy: 0.4096 - lr: 3.1623e-12 - 33s/epoch - 213ms/step\n",
      "Epoch 123/200\n",
      "155/155 - 33s - loss: 1.5218 - accuracy: 0.4097 - val_loss: 1.5598 - val_accuracy: 0.4096 - lr: 3.1623e-12 - 33s/epoch - 213ms/step\n",
      "Epoch 124/200\n",
      "155/155 - 33s - loss: 1.5218 - accuracy: 0.4097 - val_loss: 1.5598 - val_accuracy: 0.4096 - lr: 3.1623e-12 - 33s/epoch - 212ms/step\n",
      "Epoch 125/200\n",
      "155/155 - 33s - loss: 1.5218 - accuracy: 0.4097 - val_loss: 1.5598 - val_accuracy: 0.4096 - lr: 3.1623e-12 - 33s/epoch - 212ms/step\n",
      "Epoch 126/200\n",
      "155/155 - 33s - loss: 1.5218 - accuracy: 0.4097 - val_loss: 1.5598 - val_accuracy: 0.4096 - lr: 3.1623e-12 - 33s/epoch - 213ms/step\n",
      "Epoch 127/200\n",
      "155/155 - 33s - loss: 1.5218 - accuracy: 0.4097 - val_loss: 1.5598 - val_accuracy: 0.4096 - lr: 1.0000e-12 - 33s/epoch - 213ms/step\n",
      "Epoch 128/200\n",
      "155/155 - 33s - loss: 1.5218 - accuracy: 0.4097 - val_loss: 1.5598 - val_accuracy: 0.4096 - lr: 1.0000e-12 - 33s/epoch - 212ms/step\n",
      "Epoch 129/200\n",
      "155/155 - 33s - loss: 1.5218 - accuracy: 0.4097 - val_loss: 1.5598 - val_accuracy: 0.4096 - lr: 1.0000e-12 - 33s/epoch - 212ms/step\n",
      "Epoch 130/200\n",
      "155/155 - 33s - loss: 1.5218 - accuracy: 0.4097 - val_loss: 1.5598 - val_accuracy: 0.4096 - lr: 1.0000e-12 - 33s/epoch - 212ms/step\n",
      "Epoch 131/200\n",
      "155/155 - 33s - loss: 1.5218 - accuracy: 0.4097 - val_loss: 1.5598 - val_accuracy: 0.4096 - lr: 1.0000e-12 - 33s/epoch - 213ms/step\n",
      "Epoch 132/200\n",
      "155/155 - 33s - loss: 1.5218 - accuracy: 0.4097 - val_loss: 1.5598 - val_accuracy: 0.4096 - lr: 3.1623e-13 - 33s/epoch - 213ms/step\n",
      "Epoch 133/200\n",
      "155/155 - 33s - loss: 1.5218 - accuracy: 0.4097 - val_loss: 1.5598 - val_accuracy: 0.4096 - lr: 3.1623e-13 - 33s/epoch - 213ms/step\n",
      "Epoch 134/200\n",
      "155/155 - 33s - loss: 1.5218 - accuracy: 0.4097 - val_loss: 1.5598 - val_accuracy: 0.4096 - lr: 3.1623e-13 - 33s/epoch - 213ms/step\n",
      "Epoch 135/200\n",
      "155/155 - 33s - loss: 1.5218 - accuracy: 0.4097 - val_loss: 1.5598 - val_accuracy: 0.4096 - lr: 3.1623e-13 - 33s/epoch - 213ms/step\n",
      "Epoch 136/200\n",
      "155/155 - 33s - loss: 1.5218 - accuracy: 0.4097 - val_loss: 1.5598 - val_accuracy: 0.4096 - lr: 3.1623e-13 - 33s/epoch - 213ms/step\n",
      "Epoch 137/200\n",
      "155/155 - 33s - loss: 1.5218 - accuracy: 0.4097 - val_loss: 1.5598 - val_accuracy: 0.4096 - lr: 1.0000e-13 - 33s/epoch - 212ms/step\n",
      "Epoch 138/200\n",
      "155/155 - 33s - loss: 1.5218 - accuracy: 0.4097 - val_loss: 1.5598 - val_accuracy: 0.4096 - lr: 1.0000e-13 - 33s/epoch - 213ms/step\n",
      "Epoch 139/200\n",
      "155/155 - 33s - loss: 1.5218 - accuracy: 0.4097 - val_loss: 1.5598 - val_accuracy: 0.4096 - lr: 1.0000e-13 - 33s/epoch - 212ms/step\n",
      "Epoch 140/200\n",
      "155/155 - 33s - loss: 1.5218 - accuracy: 0.4097 - val_loss: 1.5598 - val_accuracy: 0.4096 - lr: 1.0000e-13 - 33s/epoch - 213ms/step\n",
      "Epoch 141/200\n",
      "155/155 - 33s - loss: 1.5218 - accuracy: 0.4097 - val_loss: 1.5598 - val_accuracy: 0.4096 - lr: 1.0000e-13 - 33s/epoch - 212ms/step\n",
      "Epoch 142/200\n",
      "155/155 - 33s - loss: 1.5218 - accuracy: 0.4097 - val_loss: 1.5598 - val_accuracy: 0.4096 - lr: 3.1623e-14 - 33s/epoch - 212ms/step\n",
      "Epoch 143/200\n",
      "155/155 - 33s - loss: 1.5218 - accuracy: 0.4097 - val_loss: 1.5598 - val_accuracy: 0.4096 - lr: 3.1623e-14 - 33s/epoch - 213ms/step\n",
      "Epoch 144/200\n",
      "155/155 - 33s - loss: 1.5218 - accuracy: 0.4097 - val_loss: 1.5598 - val_accuracy: 0.4096 - lr: 3.1623e-14 - 33s/epoch - 212ms/step\n",
      "Epoch 145/200\n",
      "155/155 - 33s - loss: 1.5218 - accuracy: 0.4097 - val_loss: 1.5598 - val_accuracy: 0.4096 - lr: 3.1623e-14 - 33s/epoch - 213ms/step\n",
      "Epoch 146/200\n",
      "155/155 - 33s - loss: 1.5218 - accuracy: 0.4097 - val_loss: 1.5598 - val_accuracy: 0.4096 - lr: 3.1623e-14 - 33s/epoch - 213ms/step\n",
      "Epoch 147/200\n",
      "155/155 - 33s - loss: 1.5218 - accuracy: 0.4097 - val_loss: 1.5598 - val_accuracy: 0.4096 - lr: 1.0000e-14 - 33s/epoch - 212ms/step\n",
      "Epoch 148/200\n",
      "155/155 - 33s - loss: 1.5218 - accuracy: 0.4097 - val_loss: 1.5598 - val_accuracy: 0.4096 - lr: 1.0000e-14 - 33s/epoch - 212ms/step\n",
      "Epoch 149/200\n",
      "155/155 - 33s - loss: 1.5218 - accuracy: 0.4097 - val_loss: 1.5598 - val_accuracy: 0.4096 - lr: 1.0000e-14 - 33s/epoch - 213ms/step\n",
      "Epoch 150/200\n",
      "155/155 - 33s - loss: 1.5218 - accuracy: 0.4097 - val_loss: 1.5598 - val_accuracy: 0.4096 - lr: 1.0000e-14 - 33s/epoch - 213ms/step\n",
      "Epoch 151/200\n",
      "155/155 - 33s - loss: 1.5218 - accuracy: 0.4097 - val_loss: 1.5598 - val_accuracy: 0.4096 - lr: 1.0000e-14 - 33s/epoch - 212ms/step\n",
      "Epoch 152/200\n",
      "155/155 - 33s - loss: 1.5218 - accuracy: 0.4097 - val_loss: 1.5598 - val_accuracy: 0.4096 - lr: 3.1623e-15 - 33s/epoch - 212ms/step\n",
      "Epoch 153/200\n",
      "155/155 - 33s - loss: 1.5218 - accuracy: 0.4097 - val_loss: 1.5598 - val_accuracy: 0.4096 - lr: 3.1623e-15 - 33s/epoch - 213ms/step\n",
      "Epoch 154/200\n",
      "155/155 - 33s - loss: 1.5218 - accuracy: 0.4097 - val_loss: 1.5598 - val_accuracy: 0.4096 - lr: 3.1623e-15 - 33s/epoch - 213ms/step\n",
      "Epoch 155/200\n",
      "155/155 - 33s - loss: 1.5218 - accuracy: 0.4097 - val_loss: 1.5598 - val_accuracy: 0.4096 - lr: 3.1623e-15 - 33s/epoch - 214ms/step\n",
      "Epoch 156/200\n",
      "155/155 - 33s - loss: 1.5218 - accuracy: 0.4097 - val_loss: 1.5598 - val_accuracy: 0.4096 - lr: 3.1623e-15 - 33s/epoch - 214ms/step\n",
      "Epoch 157/200\n",
      "155/155 - 33s - loss: 1.5218 - accuracy: 0.4097 - val_loss: 1.5598 - val_accuracy: 0.4096 - lr: 1.0000e-15 - 33s/epoch - 214ms/step\n",
      "Epoch 158/200\n",
      "155/155 - 33s - loss: 1.5218 - accuracy: 0.4097 - val_loss: 1.5598 - val_accuracy: 0.4096 - lr: 1.0000e-15 - 33s/epoch - 213ms/step\n",
      "Epoch 159/200\n",
      "155/155 - 33s - loss: 1.5218 - accuracy: 0.4097 - val_loss: 1.5598 - val_accuracy: 0.4096 - lr: 1.0000e-15 - 33s/epoch - 213ms/step\n",
      "Epoch 160/200\n",
      "155/155 - 33s - loss: 1.5218 - accuracy: 0.4097 - val_loss: 1.5598 - val_accuracy: 0.4096 - lr: 1.0000e-15 - 33s/epoch - 212ms/step\n",
      "Epoch 161/200\n",
      "155/155 - 33s - loss: 1.5218 - accuracy: 0.4097 - val_loss: 1.5598 - val_accuracy: 0.4096 - lr: 1.0000e-15 - 33s/epoch - 213ms/step\n",
      "Epoch 162/200\n",
      "155/155 - 33s - loss: 1.5218 - accuracy: 0.4097 - val_loss: 1.5598 - val_accuracy: 0.4096 - lr: 3.1623e-16 - 33s/epoch - 213ms/step\n",
      "Epoch 163/200\n",
      "155/155 - 33s - loss: 1.5218 - accuracy: 0.4097 - val_loss: 1.5598 - val_accuracy: 0.4096 - lr: 3.1623e-16 - 33s/epoch - 212ms/step\n",
      "Epoch 164/200\n",
      "155/155 - 34s - loss: 1.5218 - accuracy: 0.4097 - val_loss: 1.5598 - val_accuracy: 0.4096 - lr: 3.1623e-16 - 34s/epoch - 221ms/step\n",
      "Epoch 165/200\n",
      "155/155 - 33s - loss: 1.5218 - accuracy: 0.4097 - val_loss: 1.5598 - val_accuracy: 0.4096 - lr: 3.1623e-16 - 33s/epoch - 213ms/step\n",
      "Epoch 166/200\n",
      "155/155 - 33s - loss: 1.5218 - accuracy: 0.4097 - val_loss: 1.5598 - val_accuracy: 0.4096 - lr: 3.1623e-16 - 33s/epoch - 212ms/step\n",
      "Epoch 167/200\n",
      "155/155 - 33s - loss: 1.5218 - accuracy: 0.4097 - val_loss: 1.5598 - val_accuracy: 0.4096 - lr: 1.0000e-16 - 33s/epoch - 212ms/step\n",
      "Epoch 168/200\n",
      "155/155 - 33s - loss: 1.5218 - accuracy: 0.4097 - val_loss: 1.5598 - val_accuracy: 0.4096 - lr: 1.0000e-16 - 33s/epoch - 212ms/step\n",
      "Epoch 169/200\n",
      "155/155 - 33s - loss: 1.5218 - accuracy: 0.4097 - val_loss: 1.5598 - val_accuracy: 0.4096 - lr: 1.0000e-16 - 33s/epoch - 213ms/step\n",
      "Epoch 170/200\n",
      "155/155 - 33s - loss: 1.5218 - accuracy: 0.4097 - val_loss: 1.5598 - val_accuracy: 0.4096 - lr: 1.0000e-16 - 33s/epoch - 213ms/step\n",
      "Epoch 171/200\n",
      "155/155 - 33s - loss: 1.5218 - accuracy: 0.4097 - val_loss: 1.5598 - val_accuracy: 0.4096 - lr: 1.0000e-16 - 33s/epoch - 213ms/step\n",
      "Epoch 172/200\n",
      "155/155 - 33s - loss: 1.5218 - accuracy: 0.4097 - val_loss: 1.5598 - val_accuracy: 0.4096 - lr: 3.1623e-17 - 33s/epoch - 213ms/step\n",
      "Epoch 173/200\n",
      "155/155 - 33s - loss: 1.5218 - accuracy: 0.4097 - val_loss: 1.5598 - val_accuracy: 0.4096 - lr: 3.1623e-17 - 33s/epoch - 213ms/step\n",
      "Epoch 174/200\n",
      "155/155 - 33s - loss: 1.5218 - accuracy: 0.4097 - val_loss: 1.5598 - val_accuracy: 0.4096 - lr: 3.1623e-17 - 33s/epoch - 210ms/step\n",
      "Epoch 175/200\n",
      "155/155 - 31s - loss: 1.5218 - accuracy: 0.4097 - val_loss: 1.5598 - val_accuracy: 0.4096 - lr: 3.1623e-17 - 31s/epoch - 200ms/step\n",
      "Epoch 176/200\n",
      "155/155 - 33s - loss: 1.5218 - accuracy: 0.4097 - val_loss: 1.5598 - val_accuracy: 0.4096 - lr: 3.1623e-17 - 33s/epoch - 210ms/step\n",
      "Epoch 177/200\n",
      "155/155 - 31s - loss: 1.5218 - accuracy: 0.4097 - val_loss: 1.5598 - val_accuracy: 0.4096 - lr: 1.0000e-17 - 31s/epoch - 200ms/step\n",
      "Epoch 178/200\n",
      "155/155 - 31s - loss: 1.5218 - accuracy: 0.4097 - val_loss: 1.5598 - val_accuracy: 0.4096 - lr: 1.0000e-17 - 31s/epoch - 200ms/step\n",
      "Epoch 179/200\n",
      "155/155 - 31s - loss: 1.5218 - accuracy: 0.4097 - val_loss: 1.5598 - val_accuracy: 0.4096 - lr: 1.0000e-17 - 31s/epoch - 200ms/step\n",
      "Epoch 180/200\n",
      "155/155 - 32s - loss: 1.5218 - accuracy: 0.4097 - val_loss: 1.5598 - val_accuracy: 0.4096 - lr: 1.0000e-17 - 32s/epoch - 207ms/step\n",
      "Epoch 181/200\n",
      "155/155 - 31s - loss: 1.5218 - accuracy: 0.4097 - val_loss: 1.5598 - val_accuracy: 0.4096 - lr: 1.0000e-17 - 31s/epoch - 201ms/step\n",
      "Epoch 182/200\n",
      "155/155 - 31s - loss: 1.5218 - accuracy: 0.4097 - val_loss: 1.5598 - val_accuracy: 0.4096 - lr: 3.1623e-18 - 31s/epoch - 200ms/step\n",
      "Epoch 183/200\n",
      "155/155 - 31s - loss: 1.5218 - accuracy: 0.4097 - val_loss: 1.5598 - val_accuracy: 0.4096 - lr: 3.1623e-18 - 31s/epoch - 201ms/step\n",
      "Epoch 184/200\n",
      "155/155 - 31s - loss: 1.5218 - accuracy: 0.4097 - val_loss: 1.5598 - val_accuracy: 0.4096 - lr: 3.1623e-18 - 31s/epoch - 199ms/step\n",
      "Epoch 185/200\n",
      "155/155 - 31s - loss: 1.5218 - accuracy: 0.4097 - val_loss: 1.5598 - val_accuracy: 0.4096 - lr: 3.1623e-18 - 31s/epoch - 200ms/step\n",
      "Epoch 186/200\n",
      "155/155 - 31s - loss: 1.5218 - accuracy: 0.4097 - val_loss: 1.5598 - val_accuracy: 0.4096 - lr: 3.1623e-18 - 31s/epoch - 200ms/step\n",
      "Epoch 187/200\n",
      "155/155 - 31s - loss: 1.5218 - accuracy: 0.4097 - val_loss: 1.5598 - val_accuracy: 0.4096 - lr: 1.0000e-18 - 31s/epoch - 200ms/step\n",
      "Epoch 188/200\n",
      "155/155 - 31s - loss: 1.5218 - accuracy: 0.4097 - val_loss: 1.5598 - val_accuracy: 0.4096 - lr: 1.0000e-18 - 31s/epoch - 200ms/step\n",
      "Epoch 189/200\n",
      "155/155 - 31s - loss: 1.5218 - accuracy: 0.4097 - val_loss: 1.5598 - val_accuracy: 0.4096 - lr: 1.0000e-18 - 31s/epoch - 200ms/step\n",
      "Epoch 190/200\n",
      "155/155 - 31s - loss: 1.5218 - accuracy: 0.4097 - val_loss: 1.5598 - val_accuracy: 0.4096 - lr: 1.0000e-18 - 31s/epoch - 200ms/step\n",
      "Epoch 191/200\n",
      "155/155 - 31s - loss: 1.5218 - accuracy: 0.4097 - val_loss: 1.5598 - val_accuracy: 0.4096 - lr: 1.0000e-18 - 31s/epoch - 200ms/step\n",
      "Epoch 192/200\n",
      "155/155 - 31s - loss: 1.5218 - accuracy: 0.4097 - val_loss: 1.5598 - val_accuracy: 0.4096 - lr: 3.1623e-19 - 31s/epoch - 201ms/step\n",
      "Epoch 193/200\n",
      "155/155 - 31s - loss: 1.5218 - accuracy: 0.4097 - val_loss: 1.5598 - val_accuracy: 0.4096 - lr: 3.1623e-19 - 31s/epoch - 200ms/step\n",
      "Epoch 194/200\n",
      "155/155 - 31s - loss: 1.5218 - accuracy: 0.4097 - val_loss: 1.5598 - val_accuracy: 0.4096 - lr: 3.1623e-19 - 31s/epoch - 200ms/step\n",
      "Epoch 195/200\n",
      "155/155 - 31s - loss: 1.5218 - accuracy: 0.4097 - val_loss: 1.5598 - val_accuracy: 0.4096 - lr: 3.1623e-19 - 31s/epoch - 201ms/step\n",
      "Epoch 196/200\n",
      "155/155 - 33s - loss: 1.5218 - accuracy: 0.4097 - val_loss: 1.5598 - val_accuracy: 0.4096 - lr: 3.1623e-19 - 33s/epoch - 210ms/step\n",
      "Epoch 197/200\n",
      "155/155 - 31s - loss: 1.5218 - accuracy: 0.4097 - val_loss: 1.5598 - val_accuracy: 0.4096 - lr: 1.0000e-19 - 31s/epoch - 200ms/step\n",
      "Epoch 198/200\n",
      "155/155 - 31s - loss: 1.5218 - accuracy: 0.4097 - val_loss: 1.5598 - val_accuracy: 0.4096 - lr: 1.0000e-19 - 31s/epoch - 200ms/step\n",
      "Epoch 199/200\n",
      "155/155 - 31s - loss: 1.5218 - accuracy: 0.4097 - val_loss: 1.5598 - val_accuracy: 0.4096 - lr: 1.0000e-19 - 31s/epoch - 200ms/step\n",
      "Epoch 200/200\n",
      "155/155 - 31s - loss: 1.5218 - accuracy: 0.4097 - val_loss: 1.5598 - val_accuracy: 0.4096 - lr: 1.0000e-19 - 31s/epoch - 200ms/step\n"
     ]
    }
   ],
   "source": [
    "base_model = InceptionResNetV2(include_top=False, weights=\"imagenet\")\n",
    "x = base_model.output\n",
    "x = GlobalAveragePooling2D()(x)\n",
    "x = Dense(1024, activation='relu')(x)\n",
    "predictions = Dense(train_generator.num_classes, activation='softmax')(x)\n",
    "model = Model(inputs=base_model.input, outputs=predictions)\n",
    "\n",
    "for layer in base_model. layers:\n",
    "    layer.trainable = False\n",
    "\n",
    "reduce_lr = ReduceLROnPlateau(monitor='val_loss', factor=np.sqrt(0.1), patience=5)\n",
    "optimizer = Adam(learning_rate=0.001)\n",
    "model.compile(optimizer= optimizer, loss='categorical_crossentropy', metrics = ['accuracy'])\n",
    "\n",
    "hist = model.fit(train_generator, epochs = 200, validation_data=valid_generator, verbose = 2, callbacks=[reduce_lr])\n"
   ]
  },
  {
   "cell_type": "markdown",
   "metadata": {},
   "source": [
    "Plot da acurária de treino e validação, loss e learning rate\n"
   ]
  },
  {
   "cell_type": "code",
   "execution_count": 151,
   "metadata": {},
   "outputs": [],
   "source": [
    "train_accuracy = hist.history['accuracy']\n",
    "val_accuracy = hist.history['val_accuracy']\n",
    "\n",
    "train_loss = hist.history['loss']\n",
    "val_loss = hist.history['val_loss']\n",
    "\n",
    "learning_rate = hist.history['lr']"
   ]
  },
  {
   "cell_type": "code",
   "execution_count": 152,
   "metadata": {},
   "outputs": [
    {
     "data": {
      "image/png": "[encoded data removed]",
      "text/plain": [
       "<Figure size 864x720 with 3 Axes>"
      ]
     },
     "metadata": {
      "needs_background": "light"
     },
     "output_type": "display_data"
    }
   ],
   "source": [
    "fig, ax = plt.subplots(nrows=3, ncols=1, figsize=(12, 10))\n",
    "\n",
    "ax[0].set_title('Training Accuracy vs. Epochs')\n",
    "ax[0].plot(train_accuracy, 'o-', label='Train Accuracy')\n",
    "ax[0].plot(val_accuracy, 'o-', label='Validation Accuracy')\n",
    "ax[0].set_xlabel('Epochs')\n",
    "ax[0].set_ylabel('Accuracy')\n",
    "ax[0].legend(loc='best')\n",
    "\n",
    "ax[1].set_title('Training/Validation Loss vs. Epochs')\n",
    "ax[1].plot(train_loss, 'o-', label='Train Loss')\n",
    "ax[1].plot(val_loss, 'o-', label='Validation Loss')\n",
    "ax[1].set_xlabel('Epochs')\n",
    "ax[1].set_ylabel('Loss')\n",
    "ax[1].legend(loc='best')\n",
    "\n",
    "ax[2].set_title('Learning Rate vs. Epochs')\n",
    "ax[2].plot(learning_rate, 'o-', label='Learning Rate')\n",
    "ax[2].set_xlabel('Epochs')\n",
    "ax[2].set_ylabel('Loss')\n",
    "ax[2].legend(loc='best')\n",
    "\n",
    "plt.tight_layout()\n",
    "plt.show()"
   ]
  },
  {
   "cell_type": "markdown",
   "metadata": {},
   "source": [
    "Acurácia e Loss de Teste"
   ]
  },
  {
   "cell_type": "code",
   "execution_count": 154,
   "metadata": {},
   "outputs": [
    {
     "name": "stdout",
     "output_type": "stream",
     "text": [
      "472/472 [==============================] - 19s 41ms/step - loss: 1.5684 - accuracy: 0.4089\n"
     ]
    }
   ],
   "source": [
    "test_loss, test_accuracy = model.evaluate(test_generator, batch_size=32)"
   ]
  },
  {
   "cell_type": "code",
   "execution_count": 120,
   "metadata": {},
   "outputs": [
    {
     "name": "stdout",
     "output_type": "stream",
     "text": [
      "Test Loss:     1.6530636548995972\n",
      "Test Accuracy: 0.3919491469860077\n"
     ]
    }
   ],
   "source": [
    "print(f\"Test Loss:     {test_loss}\")\n",
    "print(f\"Test Accuracy: {test_accuracy}\")"
   ]
  },
  {
   "cell_type": "markdown",
   "metadata": {},
   "source": [
    "======================\n",
    "Matriz de Confusão\n"
   ]
  },
  {
   "cell_type": "code",
   "execution_count": 155,
   "metadata": {},
   "outputs": [],
   "source": [
    "y_pred = np.argmax(predictions, axis=1)\n",
    "y_true = test_generator.classes"
   ]
  },
  {
   "cell_type": "code",
   "execution_count": 156,
   "metadata": {},
   "outputs": [
    {
     "data": {
      "image/png": "[encoded data removed]",
      "text/plain": [
       "<Figure size 864x720 with 2 Axes>"
      ]
     },
     "metadata": {
      "needs_background": "light"
     },
     "output_type": "display_data"
    }
   ],
   "source": [
    "import seaborn as sns\n",
    "\n",
    "cf_mtx = confusion_matrix(y_true, y_pred)\n",
    "\n",
    "group_counts = [\"{0:0.0f}\".format(value) for value in cf_mtx.flatten()]\n",
    "group_percentages = [\"{0:.2%}\".format(value) for value in cf_mtx.flatten()/np.sum(cf_mtx)]\n",
    "box_labels = [f\"{v1}\\n({v2})\" for v1, v2 in zip(group_counts, group_percentages)]\n",
    "box_labels = np.asarray(box_labels).reshape(7, 7)\n",
    "\n",
    "plt.figure(figsize = (12, 10))\n",
    "sns.heatmap(cf_mtx, xticklabels=labels.values(), yticklabels=labels.values(),\n",
    "           cmap=\"YlGnBu\", fmt=\"\", annot=box_labels)\n",
    "plt.xlabel('Predicted Classes')\n",
    "plt.ylabel('True Classes')\n",
    "plt.show()"
   ]
  },
  {
   "cell_type": "markdown",
   "metadata": {},
   "source": [
    "--------------------------------------------------------------------\n"
   ]
  },
  {
   "cell_type": "code",
   "execution_count": 157,
   "metadata": {},
   "outputs": [
    {
     "name": "stdout",
     "output_type": "stream",
     "text": [
      "              precision    recall  f1-score   support\n",
      "\n",
      "    classe_1       0.00      0.00      0.00        10\n",
      "    classe_2       0.50      0.01      0.02        80\n",
      "    classe_3       0.00      0.00      0.00       106\n",
      "    classe_4       0.41      0.99      0.58       193\n",
      "    classe_5       0.00      0.00      0.00        53\n",
      "    classe_6       0.00      0.00      0.00        26\n",
      "    classe_7       0.00      0.00      0.00         4\n",
      "\n",
      "    accuracy                           0.41       472\n",
      "   macro avg       0.13      0.14      0.09       472\n",
      "weighted avg       0.25      0.41      0.24       472\n",
      "\n"
     ]
    },
    {
     "name": "stderr",
     "output_type": "stream",
     "text": [
      "c:\\Users\\Tácio\\AppData\\Local\\Programs\\Python\\Python39\\lib\\site-packages\\sklearn\\metrics\\_classification.py:1248: UndefinedMetricWarning: Precision and F-score are ill-defined and being set to 0.0 in labels with no predicted samples. Use `zero_division` parameter to control this behavior.\n",
      "  _warn_prf(average, modifier, msg_start, len(result))\n",
      "c:\\Users\\Tácio\\AppData\\Local\\Programs\\Python\\Python39\\lib\\site-packages\\sklearn\\metrics\\_classification.py:1248: UndefinedMetricWarning: Precision and F-score are ill-defined and being set to 0.0 in labels with no predicted samples. Use `zero_division` parameter to control this behavior.\n",
      "  _warn_prf(average, modifier, msg_start, len(result))\n",
      "c:\\Users\\Tácio\\AppData\\Local\\Programs\\Python\\Python39\\lib\\site-packages\\sklearn\\metrics\\_classification.py:1248: UndefinedMetricWarning: Precision and F-score are ill-defined and being set to 0.0 in labels with no predicted samples. Use `zero_division` parameter to control this behavior.\n",
      "  _warn_prf(average, modifier, msg_start, len(result))\n"
     ]
    }
   ],
   "source": [
    "print(classification_report(y_true, y_pred, target_names=labels.values()))\n"
   ]
  },
  {
   "cell_type": "markdown",
   "metadata": {},
   "source": [
    "Predições erradas -----------------------------------------------------\n"
   ]
  },
  {
   "cell_type": "code",
   "execution_count": null,
   "metadata": {},
   "outputs": [],
   "source": [
    "errors = (y_true - y_pred != 0)\n",
    "y_true_errors = y_true[errors]\n",
    "y_pred_errors = y_pred[errors]"
   ]
  },
  {
   "cell_type": "code",
   "execution_count": null,
   "metadata": {},
   "outputs": [],
   "source": [
    "test_images = test_generator.filenames\n",
    "test_img = np.asarray(test_images)[errors]"
   ]
  },
  {
   "cell_type": "code",
   "execution_count": null,
   "metadata": {},
   "outputs": [],
   "source": [
    "fig, ax = plt.subplots(nrows=2, ncols=5, figsize=(12, 10))\n",
    "idx = 0\n",
    "\n",
    "for i in range(2):\n",
    "    for j in range(5):\n",
    "        idx = np.random.randint(0, len(test_img))\n",
    "        true_index = y_true_errors[idx]\n",
    "        true_label = labels[true_index]\n",
    "        predicted_index = y_pred_errors[idx]\n",
    "        predicted_label = labels[predicted_index]\n",
    "        ax[i, j].set_title(f\"True Label: {true_label} \\n Predicted Label: {predicted_label}\")\n",
    "        img_path = os.path.join(test_dataset, test_img[idx])\n",
    "        img = cv2.imread(img_path)\n",
    "        img = cv2.cvtColor(img, cv2.COLOR_BGR2RGB)\n",
    "        ax[i, j].imshow(img)\n",
    "        ax[i, j].axis(\"off\")\n",
    "\n",
    "plt.tight_layout()\n",
    "plt.suptitle('Wrong Predictions made on test set', fontsize=20)\n",
    "plt.show()"
   ]
  },
  {
   "cell_type": "code",
   "execution_count": 158,
   "metadata": {},
   "outputs": [
    {
     "name": "stderr",
     "output_type": "stream",
     "text": [
      "WARNING:absl:Found untraced functions such as _jit_compiled_convolution_op, _jit_compiled_convolution_op, _jit_compiled_convolution_op, _jit_compiled_convolution_op, _jit_compiled_convolution_op while saving (showing 5 of 244). These functions will not be directly callable after loading.\n"
     ]
    },
    {
     "name": "stdout",
     "output_type": "stream",
     "text": [
      "INFO:tensorflow:Assets written to: resnet_50\\assets\n"
     ]
    },
    {
     "name": "stderr",
     "output_type": "stream",
     "text": [
      "INFO:tensorflow:Assets written to: resnet_50\\assets\n"
     ]
    },
    {
     "ename": "",
     "evalue": "",
     "output_type": "error",
     "traceback": [
      "\u001b[1;31mO Kernel falhou ao executar o código na célula atual ou em uma célula anterior. Examine o código nas células para identificar uma possível causa da falha. Clique <a href=\"https://aka.ms/vscodeJupyterKernelCrash\">aqui</a> para obter mais informações. Consulte o <a href='command:jupyter.viewOutput'>log</a> do Jupyter para obter mais detalhes."
     ]
    }
   ],
   "source": [
    "model.save('InceptionResNetV2')\n"
   ]
  },
  {
   "cell_type": "code",
   "execution_count": 99,
   "metadata": {},
   "outputs": [
    {
     "name": "stdout",
     "output_type": "stream",
     "text": [
      "472/472 - 25s - loss: 1.5793 - accuracy: 0.4089 - 25s/epoch - 53ms/step\n",
      "\n",
      "Test accuracy: 0.4088982939720154\n"
     ]
    }
   ],
   "source": [
    "test_loss, test_acc = model.evaluate(test_generator, verbose=2)\n",
    "print('\\nTest accuracy:', test_acc)\n"
   ]
  },
  {
   "cell_type": "markdown",
   "metadata": {},
   "source": [
    "-----------------------------------------------------\n"
   ]
  },
  {
   "cell_type": "code",
   "execution_count": 4,
   "metadata": {},
   "outputs": [],
   "source": [
    "model2 = tf.keras.models.load_model('InceptionResNetV2')"
   ]
  },
  {
   "cell_type": "code",
   "execution_count": 11,
   "metadata": {},
   "outputs": [
    {
     "name": "stdout",
     "output_type": "stream",
     "text": [
      "472/472 [==============================] - 28s 41ms/step - loss: 1.5684 - accuracy: 0.4089\n",
      "Test Loss:     1.5683661699295044\n",
      "Test Accuracy: 0.4088982939720154\n"
     ]
    }
   ],
   "source": [
    "test_loss, test_accuracy = model2.evaluate(test_generator, batch_size=32)\n",
    "print(f\"Test Loss:     {test_loss}\")\n",
    "print(f\"Test Accuracy: {test_accuracy}\")"
   ]
  }
 ],
 "metadata": {
  "kernelspec": {
   "display_name": "Python 3.9.6 64-bit",
   "language": "python",
   "name": "python3"
  },
  "language_info": {
   "codemirror_mode": {
    "name": "ipython",
    "version": 3
   },
   "file_extension": ".py",
   "mimetype": "text/x-python",
   "name": "python",
   "nbconvert_exporter": "python",
   "pygments_lexer": "ipython3",
   "version": "3.9.6"
  },
  "orig_nbformat": 4,
  "vscode": {
   "interpreter": {
    "hash": "239256dc00ce187358ecc32a88320764ef7585334a6fef731df682a71b69a65c"
   }
  }
 },
 "nbformat": 4,
 "nbformat_minor": 2
}
